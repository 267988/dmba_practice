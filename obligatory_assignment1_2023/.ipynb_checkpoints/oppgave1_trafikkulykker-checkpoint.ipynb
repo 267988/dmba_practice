{
 "cells": [
  {
   "cell_type": "markdown",
   "id": "3f2c1082",
   "metadata": {
    "collapsed": true
   },
   "source": [
    "### Oppgave 1\n",
    "Denne oppgaven baserer seg på data om trafikkulykker tilgjengelig fra SSB i Tabell:\n",
    "“08329: Drepte eller skadde i trafikkulykker, etter alder, kjønn, skadegrad, trafikantgruppe og\n",
    "ulykkestype 1999M01 - 2023M08”\n",
    "En jobb som henter ut informasjon fra SSB finnes i git-repoet. Dere kan velge om dere vil\n",
    "løse oppgavene i Python eller i R - eller en blanding! Hvis du vil bruke R må du først skrive\n",
    "datasettet til en fil - for eksempel csv eller parquet. Det finnes også et ggplot-basert\n",
    "visualiseringsbibliotek til Python, kan være verdt å prøve:\n",
    "https://realpython.com/ggplot-python/"
   ]
  },
  {
   "cell_type": "markdown",
   "id": "b61f6ad8",
   "metadata": {},
   "source": [
    "A) Formater datokolonnen som datetime, bruk f.eks.\n",
    "https://pandas.pydata.org/pandas-docs/stable/reference/api/pandas.to_datetime.html\n",
    "Sett dagen til 15. i hver måned.\n",
    "Fjern også “\\xa0” fra ulykkestype-kolonnen"
   ]
  },
  {
   "cell_type": "code",
   "execution_count": 1,
   "id": "6dd2cd53",
   "metadata": {},
   "outputs": [
    {
     "ename": "SyntaxError",
     "evalue": "invalid syntax (1693183741.py, line 1)",
     "output_type": "error",
     "traceback": [
      "\u001b[0;36m  Cell \u001b[0;32mIn[1], line 1\u001b[0;36m\u001b[0m\n\u001b[0;31m    kode kode kode\u001b[0m\n\u001b[0m         ^\u001b[0m\n\u001b[0;31mSyntaxError\u001b[0m\u001b[0;31m:\u001b[0m invalid syntax\n"
     ]
    }
   ],
   "source": [
    "kode kode kode"
   ]
  },
  {
   "cell_type": "code",
   "execution_count": null,
   "id": "bc932a82",
   "metadata": {},
   "outputs": [],
   "source": []
  }
 ],
 "metadata": {
  "kernelspec": {
   "display_name": "Python 3 (ipykernel)",
   "language": "python",
   "name": "python3"
  },
  "language_info": {
   "codemirror_mode": {
    "name": "ipython",
    "version": 3
   },
   "file_extension": ".py",
   "mimetype": "text/x-python",
   "name": "python",
   "nbconvert_exporter": "python",
   "pygments_lexer": "ipython3",
   "version": "3.11.4"
  }
 },
 "nbformat": 4,
 "nbformat_minor": 5
}
