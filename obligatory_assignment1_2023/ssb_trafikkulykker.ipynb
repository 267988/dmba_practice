{
 "cells": [
  {
   "cell_type": "code",
   "execution_count": 3,
   "id": "initial_id",
   "metadata": {},
   "outputs": [],
   "source": [
    "import requests\n",
    "import pandas as pd\n",
    "from io import StringIO"
   ]
  },
  {
   "cell_type": "code",
   "execution_count": 4,
   "id": "4ac82207",
   "metadata": {},
   "outputs": [],
   "source": [
    "url = \"https://data.ssb.no/api/v0/no/table/08329/\""
   ]
  },
  {
   "cell_type": "markdown",
   "id": "8445441f",
   "metadata": {},
   "source": [
    "Argumentene under følger APIet til SSB.\n",
    "Dette er dokumentert her: [https://www.ssb.no/api/pxwebapi](https://www.ssb.no/api/pxwebapi)"
   ]
  },
  {
   "cell_type": "code",
   "execution_count": 5,
   "id": "64f63e1b",
   "metadata": {},
   "outputs": [],
   "source": [
    "args = {\n",
    "  \"query\": [\n",
    "    {\n",
    "      \"code\": \"Skadegrad\",\n",
    "      \"selection\": {\n",
    "        \"filter\": \"all\",\n",
    "        \"values\": [\"*\"]\n",
    "      }\n",
    "    },\n",
    "    {\n",
    "      \"code\": \"Ulukkesgruppe\",\n",
    "      \"selection\": {\n",
    "      \n",
    "          \"filter\": \"all\",\n",
    "        \"values\": [\n",
    "          \"*\"\n",
    "        ]\n",
    "      }\n",
    "    },\n",
    "      {\n",
    "      \"code\": \"VegtrTrafGrp\",\n",
    "      \"selection\": {\n",
    "        \"filter\": \"all\",\n",
    "        \"values\": [\n",
    "          \"*\"\n",
    "        ]\n",
    "      }\n",
    "    },\n",
    "    {\n",
    "      \"code\": \"ContentsCode\",\n",
    "      \"selection\": {\n",
    "        \"filter\": \"all\",\n",
    "        \"values\": [\n",
    "          \"*\"\n",
    "        ]\n",
    "      }\n",
    "    },\n",
    "    {\n",
    "      \"code\": \"Tid\",\n",
    "      \"selection\": {\n",
    "        \"filter\": \"all\",\n",
    "        \"values\": [\n",
    "          \"*\"\n",
    "        ]\n",
    "      }\n",
    "    }\n",
    "  ],\n",
    "  \"response\": {\n",
    "    \"format\": \"csv2\"\n",
    "  }\n",
    "}"
   ]
  },
  {
   "cell_type": "code",
   "execution_count": 6,
   "id": "50ab8ec6",
   "metadata": {},
   "outputs": [],
   "source": [
    "resp = requests.post(url, json=args)"
   ]
  },
  {
   "cell_type": "markdown",
   "id": "915d5378",
   "metadata": {},
   "source": [
    "StringIO er et teknisk triks for å få en streng til å se ut som om den er en fil med tekst. "
   ]
  },
  {
   "cell_type": "code",
   "execution_count": null,
   "id": "063f91bb",
   "metadata": {},
   "outputs": [],
   "source": [
    "df = pd.read_csv(StringIO(resp.text))"
   ]
  },
  {
   "cell_type": "code",
   "execution_count": null,
   "id": "025d319c",
   "metadata": {},
   "outputs": [],
   "source": [
    "df"
   ]
  },
  {
   "cell_type": "code",
   "execution_count": null,
   "id": "c5cf5c1c",
   "metadata": {},
   "outputs": [],
   "source": [
    "df[\"ulykkestype\"].unique()"
   ]
  },
  {
   "cell_type": "code",
   "execution_count": null,
   "id": "9927594f",
   "metadata": {},
   "outputs": [],
   "source": [
    "%store df"
   ]
  },
  {
   "cell_type": "code",
   "execution_count": null,
   "id": "95171bed",
   "metadata": {},
   "outputs": [],
   "source": []
  },
  {
   "cell_type": "code",
   "execution_count": null,
   "id": "77fad342",
   "metadata": {},
   "outputs": [],
   "source": []
  },
  {
   "cell_type": "code",
   "execution_count": null,
   "id": "5c6675b5",
   "metadata": {},
   "outputs": [],
   "source": []
  },
  {
   "cell_type": "code",
   "execution_count": null,
   "id": "cfff6b08",
   "metadata": {},
   "outputs": [],
   "source": []
  }
 ],
 "metadata": {
  "kernelspec": {
   "display_name": "Python 3 (ipykernel)",
   "language": "python",
   "name": "python3"
  },
  "language_info": {
   "codemirror_mode": {
    "name": "ipython",
    "version": 3
   },
   "file_extension": ".py",
   "mimetype": "text/x-python",
   "name": "python",
   "nbconvert_exporter": "python",
   "pygments_lexer": "ipython3",
   "version": "3.11.4"
  }
 },
 "nbformat": 4,
 "nbformat_minor": 5
}
