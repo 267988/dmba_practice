{
 "cells": [
  {
   "cell_type": "markdown",
   "id": "377e5275",
   "metadata": {
    "collapsed": true
   },
   "source": [
    "### Oppgave 1\n",
    "Denne oppgaven baserer seg på data om trafikkulykker tilgjengelig fra SSB i Tabell:\n",
    "“08329: Drepte eller skadde i trafikkulykker, etter alder, kjønn, skadegrad, trafikantgruppe og\n",
    "ulykkestype 1999M01 - 2023M08”\n",
    "En jobb som henter ut informasjon fra SSB finnes i git-repoet. Dere kan velge om dere vil\n",
    "løse oppgavene i Python eller i R - eller en blanding! Hvis du vil bruke R må du først skrive\n",
    "datasettet til en fil - for eksempel csv eller parquet. Det finnes også et ggplot-basert\n",
    "visualiseringsbibliotek til Python, kan være verdt å prøve:\n",
    "https://realpython.com/ggplot-python/"
   ]
  },
  {
   "cell_type": "markdown",
   "id": "682f0ec3",
   "metadata": {},
   "source": [
    "A) Formater datokolonnen som datetime, bruk f.eks.\n",
    "https://pandas.pydata.org/pandas-docs/stable/reference/api/pandas.to_datetime.html\n",
    "Sett dagen til 15. i hver måned.\n",
    "Fjern også “\\xa0” fra ulykkestype-kolonnen"
   ]
  },
  {
   "cell_type": "code",
   "execution_count": 7,
   "id": "c7d7396d",
   "metadata": {},
   "outputs": [],
   "source": [
    "from plotnine import ggplot, aes, geom_line"
   ]
  },
  {
   "cell_type": "code",
   "execution_count": 9,
   "id": "402c65b3",
   "metadata": {},
   "outputs": [
    {
     "ename": "NameError",
     "evalue": "name 'economics' is not defined",
     "output_type": "error",
     "traceback": [
      "\u001b[0;31m---------------------------------------------------------------------------\u001b[0m",
      "\u001b[0;31mNameError\u001b[0m                                 Traceback (most recent call last)",
      "Cell \u001b[0;32mIn[9], line 3\u001b[0m\n\u001b[1;32m      1\u001b[0m \u001b[38;5;66;03m## Test\u001b[39;00m\n\u001b[1;32m      2\u001b[0m (\n\u001b[0;32m----> 3\u001b[0m     ggplot(economics)  \u001b[38;5;66;03m# What data to use\u001b[39;00m\n\u001b[1;32m      4\u001b[0m     \u001b[38;5;241m+\u001b[39m aes(x\u001b[38;5;241m=\u001b[39m\u001b[38;5;124m\"\u001b[39m\u001b[38;5;124mdate\u001b[39m\u001b[38;5;124m\"\u001b[39m, y\u001b[38;5;241m=\u001b[39m\u001b[38;5;124m\"\u001b[39m\u001b[38;5;124mpop\u001b[39m\u001b[38;5;124m\"\u001b[39m)  \u001b[38;5;66;03m# What variable to use\u001b[39;00m\n\u001b[1;32m      5\u001b[0m     \u001b[38;5;241m+\u001b[39m geom_line()  \u001b[38;5;66;03m# Geometric object to use for drawing\u001b[39;00m\n\u001b[1;32m      6\u001b[0m )\n",
      "\u001b[0;31mNameError\u001b[0m: name 'economics' is not defined"
     ]
    }
   ],
   "source": [
    "## Test\n",
    "(\n",
    "    ggplot(economics)  # What data to use\n",
    "    + aes(x=\"date\", y=\"pop\")  # What variable to use\n",
    "    + geom_line()  # Geometric object to use for drawing\n",
    ")\n"
   ]
  },
  {
   "cell_type": "markdown",
   "id": "1969a093",
   "metadata": {},
   "source": [
    "B) Hva har skjedd med totalt antall drepte over tid? Lag et plott som viser utviklingen av\n",
    "antall drepte for hvert år i datasettet fra første år med data i datasettet til nå.\n"
   ]
  },
  {
   "cell_type": "code",
   "execution_count": 2,
   "id": "e41412d9",
   "metadata": {},
   "outputs": [
    {
     "ename": "NameError",
     "evalue": "name 'kodekodkode' is not defined",
     "output_type": "error",
     "traceback": [
      "\u001b[0;31m---------------------------------------------------------------------------\u001b[0m",
      "\u001b[0;31mNameError\u001b[0m                                 Traceback (most recent call last)",
      "Cell \u001b[0;32mIn[2], line 1\u001b[0m\n\u001b[0;32m----> 1\u001b[0m kodekodkode\n",
      "\u001b[0;31mNameError\u001b[0m: name 'kodekodkode' is not defined"
     ]
    }
   ],
   "source": [
    "kodekodkode"
   ]
  },
  {
   "cell_type": "markdown",
   "id": "dda67c32",
   "metadata": {},
   "source": [
    "C) Er det sesongmessig variasjon i skadetallene? Plott pr. måned og se om du ser et\n",
    "mønster.\n"
   ]
  },
  {
   "cell_type": "code",
   "execution_count": null,
   "id": "f5374c56",
   "metadata": {},
   "outputs": [],
   "source": [
    "kodekodeodkeo"
   ]
  },
  {
   "cell_type": "markdown",
   "id": "251d830e",
   "metadata": {},
   "source": [
    "D) Lag et plott som viser andel av de drepte eller skadde med de ulike skadegradene\n",
    "(inkl. drepte) for hvert år. Ikke ta med “Skadde i alt”.\n"
   ]
  },
  {
   "cell_type": "code",
   "execution_count": 4,
   "id": "05bc3391",
   "metadata": {},
   "outputs": [
    {
     "ename": "NameError",
     "evalue": "name 'kodekodkoedo' is not defined",
     "output_type": "error",
     "traceback": [
      "\u001b[0;31m---------------------------------------------------------------------------\u001b[0m",
      "\u001b[0;31mNameError\u001b[0m                                 Traceback (most recent call last)",
      "Cell \u001b[0;32mIn[4], line 1\u001b[0m\n\u001b[0;32m----> 1\u001b[0m kodekodkoedo\n",
      "\u001b[0;31mNameError\u001b[0m: name 'kodekodkoedo' is not defined"
     ]
    }
   ],
   "source": [
    "kodekodkoedo"
   ]
  },
  {
   "cell_type": "markdown",
   "id": "0282973e",
   "metadata": {},
   "source": [
    "E) Lag et plott som viser utviklingen av de ulike typene møteulykker for hvert år (“Møting\n",
    "ved forbikjøring” og “Andre møteulykker”). Det har blitt bygget mange midtdelere, så\n",
    "disse bør det bli færre av.\n"
   ]
  },
  {
   "cell_type": "code",
   "execution_count": null,
   "id": "27cb75a2",
   "metadata": {},
   "outputs": [],
   "source": [
    "modkodeokodekedo"
   ]
  },
  {
   "cell_type": "markdown",
   "id": "3460a364",
   "metadata": {},
   "source": [
    "F) Vegtrafikkindeksen sier noe om hvordan trafikkmengden har utviklet seg over tid, og\n",
    "er relevant informasjon for å forstå hvor mye tryggere det har blitt å være i trafikken.\n",
    "https://www.vegvesen.no/globalassets/fag/trafikk/trafikkdata/vegtrafikkindeksen_2023-05.pdf\n",
    "Tabell 8 viser kumulativ trafikkutvikling siden 2005. Bruk tabellen til å framskrive\n",
    "antall i hver skadegrad fra 2005 år i datasettet til 2022. Inkluder denne informasjonen\n",
    "i grafen fra deloppgave B.\n"
   ]
  },
  {
   "cell_type": "code",
   "execution_count": null,
   "id": "e84c2c6d",
   "metadata": {},
   "outputs": [],
   "source": []
  },
  {
   "cell_type": "code",
   "execution_count": null,
   "id": "d84a3ef6",
   "metadata": {},
   "outputs": [],
   "source": []
  },
  {
   "cell_type": "code",
   "execution_count": null,
   "id": "05cb5187",
   "metadata": {},
   "outputs": [],
   "source": []
  },
  {
   "cell_type": "code",
   "execution_count": null,
   "id": "a97bcf87",
   "metadata": {},
   "outputs": [],
   "source": []
  },
  {
   "cell_type": "code",
   "execution_count": null,
   "id": "9be7fac8",
   "metadata": {},
   "outputs": [],
   "source": []
  },
  {
   "cell_type": "code",
   "execution_count": null,
   "id": "5cbc1b0c",
   "metadata": {},
   "outputs": [],
   "source": []
  },
  {
   "cell_type": "code",
   "execution_count": null,
   "id": "4d210de9",
   "metadata": {},
   "outputs": [],
   "source": []
  },
  {
   "cell_type": "code",
   "execution_count": null,
   "id": "1ee306b6",
   "metadata": {},
   "outputs": [],
   "source": []
  },
  {
   "cell_type": "code",
   "execution_count": null,
   "id": "8830a35f",
   "metadata": {},
   "outputs": [],
   "source": []
  }
 ],
 "metadata": {
  "kernelspec": {
   "display_name": "Python 3 (ipykernel)",
   "language": "python",
   "name": "python3"
  },
  "language_info": {
   "codemirror_mode": {
    "name": "ipython",
    "version": 3
   },
   "file_extension": ".py",
   "mimetype": "text/x-python",
   "name": "python",
   "nbconvert_exporter": "python",
   "pygments_lexer": "ipython3",
   "version": "3.11.4"
  }
 },
 "nbformat": 4,
 "nbformat_minor": 5
}
